{
 "cells": [
  {
   "cell_type": "code",
   "execution_count": 1,
   "metadata": {},
   "outputs": [
    {
     "data": {
      "text/plain": [
       "' Submission for Kaggle Titanic competition (https://www.kaggle.com/c/titanic). Given a training set\\ncontaining information about titanic passenger age, sex, cabin, etc. we predict the pessengers probability of \\nsurvival.  Main methods employed are feature engineering and XGBoost.\\n'"
      ]
     },
     "execution_count": 1,
     "metadata": {},
     "output_type": "execute_result"
    }
   ],
   "source": [
    "\"\"\" Submission for Kaggle Titanic competition (https://www.kaggle.com/c/titanic). Given a training set\n",
    "containing information about titanic passenger age, sex, cabin, etc. we predict the pessengers probability of \n",
    "survival.  Main methods employed are feature engineering and XGBoost.\n",
    "\"\"\""
   ]
  },
  {
   "cell_type": "code",
   "execution_count": 2,
   "metadata": {},
   "outputs": [],
   "source": [
    "# import libraries\n",
    "import pandas as pd\n",
    "import numpy as np\n",
    "import math\n",
    "import matplotlib.pyplot as plt\n",
    "import seaborn as sns\n",
    "sns.set()\n",
    "\n",
    "from sklearn.preprocessing import LabelEncoder\n",
    "from sklearn.preprocessing import OneHotEncoder\n",
    "from sklearn.compose import make_column_transformer\n",
    "from sklearn.model_selection import cross_val_score, GridSearchCV\n",
    "from xgboost import XGBClassifier\n",
    "from sklearn.ensemble import RandomForestClassifier"
   ]
  },
  {
   "cell_type": "markdown",
   "metadata": {},
   "source": [
    "## Train Model on the Training Set"
   ]
  },
  {
   "cell_type": "markdown",
   "metadata": {},
   "source": [
    "### Cleaning & Feature Engineering"
   ]
  },
  {
   "cell_type": "code",
   "execution_count": 3,
   "metadata": {},
   "outputs": [],
   "source": [
    "def engineer_class(passengers):\n",
    "    # in Cabin column, remove the numbers and only keep cabin type, e.g. B, C, ...\n",
    "    # if NaN, replace with \"unknown\"\n",
    "    counter = 0\n",
    "    for cabin in passengers['Cabin']:\n",
    "        try:\n",
    "            if math.isnan(float(cabin)):\n",
    "                passengers['Cabin'].values[counter] = 'unknown'\n",
    "        except:\n",
    "            passengers['Cabin'].values[counter] = cabin[0]\n",
    "        counter += 1\n",
    "    # cabin type 'T' only exists one time and most closely resembles the behaviour of\n",
    "    # a cabin type 'A' passenger, therefore replace it\n",
    "    idx = passengers[passengers['Cabin'] == 'T'].index\n",
    "    passengers.loc[idx, 'Cabin'] = 'A'\n",
    "\n",
    "    return passengers\n",
    "\n",
    "def engineer_age(passengers):\n",
    "    ## fix age NaNs\n",
    "    # instead of replacing the age NaNs with a total mean, logically categorize the data and \n",
    "    # replace the age with the mean of that category, e.g. class1 males, class1 females, etc.\n",
    "    passengers['Age'] = passengers.groupby(['Pclass','Sex'])['Age'].apply(lambda x: x.fillna(x.median()))\n",
    "\n",
    "    return passengers\n",
    "\n",
    "def engineer_ticket(passengers):\n",
    "    # families who boarded together received the same ticker number. since there is a correlation between\n",
    "    # family size and survival rate, we group the tickets by their frequency\n",
    "    passengers['Ticket_frequency'] = passengers.groupby('Ticket')['Ticket'].transform('count')\n",
    "    passengers.drop('Ticket', axis=1, inplace=True)\n",
    "\n",
    "    return passengers"
   ]
  },
  {
   "cell_type": "code",
   "execution_count": 4,
   "metadata": {},
   "outputs": [
    {
     "data": {
      "text/plain": [
       "(891, 11)"
      ]
     },
     "execution_count": 4,
     "metadata": {},
     "output_type": "execute_result"
    }
   ],
   "source": [
    "# load data and apply engineering functions\n",
    "passengers = pd.read_csv('./data/train.csv', index_col=0)\n",
    "# process columns Ticket, Age, Class\n",
    "passengers = engineer_class(passengers)\n",
    "passengers = engineer_age(passengers)\n",
    "passengers = engineer_ticket(passengers)\n",
    "passengers.shape "
   ]
  },
  {
   "cell_type": "code",
   "execution_count": 5,
   "metadata": {},
   "outputs": [
    {
     "name": "stdout",
     "output_type": "stream",
     "text": [
      "             Survived  Pclass                                       Name  \\\n",
      "PassengerId                                                                \n",
      "62                  1       1                        Icard, Miss. Amelie   \n",
      "830                 1       1  Stone, Mrs. George Nelson (Martha Evelyn)   \n",
      "\n",
      "                Sex   Age  SibSp  Parch  Fare Cabin Embarked  Ticket_frequency  \n",
      "PassengerId                                                                     \n",
      "62           female  38.0      0      0  80.0     B      NaN                 2  \n",
      "830          female  62.0      0      0  80.0     B      NaN                 2  \n"
     ]
    }
   ],
   "source": [
    "# process Embarked column\n",
    "print(passengers[passengers['Embarked'].isnull()])\n",
    "# fill the 2 NaNs with the proper values based on a google search of the passenger names\n",
    "passengers['Embarked'].fillna('S', inplace=True)"
   ]
  },
  {
   "cell_type": "code",
   "execution_count": 6,
   "metadata": {},
   "outputs": [],
   "source": [
    "# create new ordinal feature family_size from Parch (parents+children) and Sibsp (siblings+spouses)\n",
    "passengers['Family_Size'] = passengers['SibSp'] + passengers['Parch'] + 1\n",
    "del passengers['SibSp']\n",
    "del passengers['Parch']"
   ]
  },
  {
   "cell_type": "code",
   "execution_count": 7,
   "metadata": {},
   "outputs": [],
   "source": [
    "# drop name column (TODO: extract features from the titles, e.g. Mr., Mrs., ...)\n",
    "del passengers['Name']"
   ]
  },
  {
   "cell_type": "code",
   "execution_count": 8,
   "metadata": {},
   "outputs": [
    {
     "name": "stdout",
     "output_type": "stream",
     "text": [
      "<class 'pandas.core.frame.DataFrame'>\n",
      "Int64Index: 891 entries, 1 to 891\n",
      "Data columns (total 9 columns):\n",
      " #   Column            Non-Null Count  Dtype  \n",
      "---  ------            --------------  -----  \n",
      " 0   Survived          891 non-null    int64  \n",
      " 1   Pclass            891 non-null    int64  \n",
      " 2   Sex               891 non-null    object \n",
      " 3   Age               891 non-null    float64\n",
      " 4   Fare              891 non-null    float64\n",
      " 5   Cabin             891 non-null    object \n",
      " 6   Embarked          891 non-null    object \n",
      " 7   Ticket_frequency  891 non-null    int64  \n",
      " 8   Family_Size       891 non-null    int64  \n",
      "dtypes: float64(2), int64(4), object(3)\n",
      "memory usage: 101.9+ KB\n"
     ]
    }
   ],
   "source": [
    "passengers.info()"
   ]
  },
  {
   "cell_type": "code",
   "execution_count": 9,
   "metadata": {},
   "outputs": [
    {
     "data": {
      "text/html": [
       "<div>\n",
       "<style scoped>\n",
       "    .dataframe tbody tr th:only-of-type {\n",
       "        vertical-align: middle;\n",
       "    }\n",
       "\n",
       "    .dataframe tbody tr th {\n",
       "        vertical-align: top;\n",
       "    }\n",
       "\n",
       "    .dataframe thead th {\n",
       "        text-align: right;\n",
       "    }\n",
       "</style>\n",
       "<table border=\"1\" class=\"dataframe\">\n",
       "  <thead>\n",
       "    <tr style=\"text-align: right;\">\n",
       "      <th></th>\n",
       "      <th>Survived</th>\n",
       "      <th>Pclass</th>\n",
       "      <th>Sex</th>\n",
       "      <th>Age</th>\n",
       "      <th>Fare</th>\n",
       "      <th>Cabin</th>\n",
       "      <th>Embarked</th>\n",
       "      <th>Ticket_frequency</th>\n",
       "      <th>Family_Size</th>\n",
       "    </tr>\n",
       "    <tr>\n",
       "      <th>PassengerId</th>\n",
       "      <th></th>\n",
       "      <th></th>\n",
       "      <th></th>\n",
       "      <th></th>\n",
       "      <th></th>\n",
       "      <th></th>\n",
       "      <th></th>\n",
       "      <th></th>\n",
       "      <th></th>\n",
       "    </tr>\n",
       "  </thead>\n",
       "  <tbody>\n",
       "    <tr>\n",
       "      <th>436</th>\n",
       "      <td>1</td>\n",
       "      <td>1</td>\n",
       "      <td>female</td>\n",
       "      <td>14.00</td>\n",
       "      <td>120.0000</td>\n",
       "      <td>B</td>\n",
       "      <td>S</td>\n",
       "      <td>4</td>\n",
       "      <td>4</td>\n",
       "    </tr>\n",
       "    <tr>\n",
       "      <th>832</th>\n",
       "      <td>1</td>\n",
       "      <td>2</td>\n",
       "      <td>male</td>\n",
       "      <td>0.83</td>\n",
       "      <td>18.7500</td>\n",
       "      <td>unknown</td>\n",
       "      <td>S</td>\n",
       "      <td>3</td>\n",
       "      <td>3</td>\n",
       "    </tr>\n",
       "    <tr>\n",
       "      <th>215</th>\n",
       "      <td>0</td>\n",
       "      <td>3</td>\n",
       "      <td>male</td>\n",
       "      <td>25.00</td>\n",
       "      <td>7.7500</td>\n",
       "      <td>unknown</td>\n",
       "      <td>Q</td>\n",
       "      <td>1</td>\n",
       "      <td>2</td>\n",
       "    </tr>\n",
       "    <tr>\n",
       "      <th>56</th>\n",
       "      <td>1</td>\n",
       "      <td>1</td>\n",
       "      <td>male</td>\n",
       "      <td>40.00</td>\n",
       "      <td>35.5000</td>\n",
       "      <td>C</td>\n",
       "      <td>S</td>\n",
       "      <td>1</td>\n",
       "      <td>1</td>\n",
       "    </tr>\n",
       "    <tr>\n",
       "      <th>31</th>\n",
       "      <td>0</td>\n",
       "      <td>1</td>\n",
       "      <td>male</td>\n",
       "      <td>40.00</td>\n",
       "      <td>27.7208</td>\n",
       "      <td>unknown</td>\n",
       "      <td>C</td>\n",
       "      <td>1</td>\n",
       "      <td>1</td>\n",
       "    </tr>\n",
       "  </tbody>\n",
       "</table>\n",
       "</div>"
      ],
      "text/plain": [
       "             Survived  Pclass     Sex    Age      Fare    Cabin Embarked  \\\n",
       "PassengerId                                                                \n",
       "436                 1       1  female  14.00  120.0000        B        S   \n",
       "832                 1       2    male   0.83   18.7500  unknown        S   \n",
       "215                 0       3    male  25.00    7.7500  unknown        Q   \n",
       "56                  1       1    male  40.00   35.5000        C        S   \n",
       "31                  0       1    male  40.00   27.7208  unknown        C   \n",
       "\n",
       "             Ticket_frequency  Family_Size  \n",
       "PassengerId                                 \n",
       "436                         4            4  \n",
       "832                         3            3  \n",
       "215                         1            2  \n",
       "56                          1            1  \n",
       "31                          1            1  "
      ]
     },
     "execution_count": 9,
     "metadata": {},
     "output_type": "execute_result"
    }
   ],
   "source": [
    "passengers.sample(5)"
   ]
  },
  {
   "cell_type": "code",
   "execution_count": 10,
   "metadata": {},
   "outputs": [
    {
     "name": "stdout",
     "output_type": "stream",
     "text": [
      "Nr. of NaN in column Survived 0\n",
      "Nr. of NaN in column Pclass 0\n",
      "Nr. of NaN in column Sex 0\n",
      "Nr. of NaN in column Age 0\n",
      "Nr. of NaN in column Fare 0\n",
      "Nr. of NaN in column Cabin 0\n",
      "Nr. of NaN in column Embarked 0\n",
      "Nr. of NaN in column Ticket_frequency 0\n",
      "Nr. of NaN in column Family_Size 0\n"
     ]
    }
   ],
   "source": [
    "# confirm that data is clean: count NaNs for each column\n",
    "for column in passengers.columns:\n",
    "    print('Nr. of NaN in column ' + column + ' ' + str(passengers[column].isna().sum()))"
   ]
  },
  {
   "cell_type": "markdown",
   "metadata": {},
   "source": [
    "### Encoding"
   ]
  },
  {
   "cell_type": "code",
   "execution_count": 11,
   "metadata": {},
   "outputs": [],
   "source": [
    "# split features and target values\n",
    "X = passengers.drop('Survived', axis=1)\n",
    "y = passengers['Survived']"
   ]
  },
  {
   "cell_type": "code",
   "execution_count": 12,
   "metadata": {},
   "outputs": [],
   "source": [
    "# one-hot encode Sex\n",
    "transformer = make_column_transformer((OneHotEncoder(drop='if_binary'), ['Sex']), remainder='passthrough', verbose_feature_names_out=False)\n",
    "X = pd.DataFrame(transformer.fit_transform(X), columns=transformer.get_feature_names_out()) # put transformed feature back in X"
   ]
  },
  {
   "cell_type": "code",
   "execution_count": 13,
   "metadata": {},
   "outputs": [],
   "source": [
    "# one-hot encode Embarked\n",
    "transformer = make_column_transformer((OneHotEncoder(), ['Embarked']), remainder='passthrough', verbose_feature_names_out=False)\n",
    "X = pd.DataFrame(transformer.fit_transform(X), columns=transformer.get_feature_names_out()) # put transformed feature back in X"
   ]
  },
  {
   "cell_type": "code",
   "execution_count": 14,
   "metadata": {},
   "outputs": [],
   "source": [
    "# one-hot encode Cabin\n",
    "transformer = make_column_transformer((OneHotEncoder(), ['Cabin']), remainder='passthrough', verbose_feature_names_out=False)\n",
    "X = pd.DataFrame(transformer.fit_transform(X), columns=transformer.get_feature_names_out()) # put transformed feature back in X\n",
    "\n",
    "X_encoded = X.astype(int)"
   ]
  },
  {
   "cell_type": "markdown",
   "metadata": {},
   "source": [
    "# Model on Training Data"
   ]
  },
  {
   "cell_type": "code",
   "execution_count": 15,
   "metadata": {},
   "outputs": [],
   "source": [
    "# ## Train the Model on the whole set\n",
    "# # Random forest with optimized params from GridSearch\n",
    "#classifier = RandomForestClassifier(n_estimators=45, max_features=11, criterion='entropy', random_state=0)\n",
    "#classifier.fit(X_encoded, y)"
   ]
  },
  {
   "cell_type": "code",
   "execution_count": 16,
   "metadata": {},
   "outputs": [],
   "source": [
    "## XGboost - with grid search\n",
    "saved_params = {'colsample_bytree': 0.71, 'gamma': 0.17, 'learning_rate': 0.2, 'max_depth': 7, 'min_child_weight': 3, 'n_estimators': 54, 'reg_alpha': 0, 'reg_lambda': 1.0, 'subsample': 0.72} # if empty, run a grid search for optimized parameters, kaggle score: 0.78\n",
    "\n",
    "if len(saved_params) == 0:\n",
    "\n",
    "    classifier = XGBClassifier(n_estimators=50, max_depth=5, max_leaves=0, min_child_weight = 1, learning_rate=0.2,\n",
    "                                gamma=0.1,\n",
    "                                verbosity=1,\n",
    "                                colsample_bytree = 0.8,\n",
    "                                scale_pos_weight = 1,\n",
    "                                booster='gbtree', # gblinear, gbtree, dart\n",
    "                                n_jobs=4,\n",
    "    )\n",
    "\n",
    "    # GridSearch\n",
    "    parameters = [{'max_depth': range(1,15,1),\n",
    "                    #'min_child_weight': range(2,6,1),\n",
    "                    #'gamma': np.arange(0.1,0.2,0.02),\n",
    "                    # 'subsample': np.arange(0.7,0.75,0.01),\n",
    "                    #'colsample_bytree': np.arange(0.65,0.75,0.025),\n",
    "                    #'reg_alpha': np.arange(0,1e-5,5e-6),\n",
    "                    #'reg_lambda': np.arange(0.1,1.1,0.2),\n",
    "                    'n_estimators': range(50,70,1),\n",
    "                    #'learning_rate': np.arange(0.05,0.25,0.05)\n",
    "    }]\n",
    "    grid_search = GridSearchCV(estimator = classifier,\n",
    "                                param_grid = parameters,\n",
    "                                scoring = 'accuracy',\n",
    "                                cv = 5,\n",
    "                                n_jobs=2,\n",
    "                                verbose=2,\n",
    "    )\n",
    "    grid_search.fit(X_encoded, y)\n",
    "    best_accuracy = grid_search.best_score_\n",
    "    best_parameters = grid_search.best_params_\n",
    "    print(\"Best Accuracy: {:.2f} %\".format(best_accuracy*100))\n",
    "    print(\"Best Parameters:\", best_parameters)\n",
    "\n",
    "    saved_params = best_parameters"
   ]
  },
  {
   "cell_type": "code",
   "execution_count": 17,
   "metadata": {},
   "outputs": [
    {
     "data": {
      "text/plain": [
       "XGBClassifier(base_score=0.5, booster='gbtree', callbacks=None,\n",
       "              colsample_bylevel=1, colsample_bynode=1, colsample_bytree=0.71,\n",
       "              early_stopping_rounds=None, enable_categorical=False,\n",
       "              eval_metric=None, gamma=0.17, gpu_id=-1, grow_policy='depthwise',\n",
       "              importance_type=None, interaction_constraints='',\n",
       "              learning_rate=0.2, max_bin=256, max_cat_to_onehot=4,\n",
       "              max_delta_step=0, max_depth=7, max_leaves=0, min_child_weight=3,\n",
       "              missing=nan, monotone_constraints='()', n_estimators=54, n_jobs=0,\n",
       "              num_parallel_tree=1, predictor='auto', random_state=0,\n",
       "              reg_alpha=0, reg_lambda=1.0, ...)"
      ]
     },
     "execution_count": 17,
     "metadata": {},
     "output_type": "execute_result"
    }
   ],
   "source": [
    "## XGboost with params\n",
    "classifier = XGBClassifier(**saved_params)\n",
    "classifier.fit(X_encoded, y)"
   ]
  },
  {
   "cell_type": "code",
   "execution_count": 18,
   "metadata": {},
   "outputs": [
    {
     "name": "stdout",
     "output_type": "stream",
     "text": [
      "[CV] END ................................ score: (test=0.804) total time=   0.0s\n",
      "[CV] END ................................ score: (test=0.820) total time=   0.0s\n",
      "[CV] END ................................ score: (test=0.865) total time=   0.0s\n",
      "[CV] END ................................ score: (test=0.820) total time=   0.0s\n",
      "[CV] END ................................ score: (test=0.854) total time=   0.0s\n"
     ]
    },
    {
     "name": "stderr",
     "output_type": "stream",
     "text": [
      "[Parallel(n_jobs=1)]: Using backend SequentialBackend with 1 concurrent workers.\n",
      "[Parallel(n_jobs=1)]: Done   1 out of   1 | elapsed:    0.0s remaining:    0.0s\n",
      "[Parallel(n_jobs=1)]: Done   2 out of   2 | elapsed:    0.0s remaining:    0.0s\n",
      "[Parallel(n_jobs=1)]: Done   3 out of   3 | elapsed:    0.0s remaining:    0.0s\n",
      "[Parallel(n_jobs=1)]: Done   5 out of   5 | elapsed:    0.1s finished\n"
     ]
    },
    {
     "data": {
      "text/plain": [
       "0.832803967108154"
      ]
     },
     "execution_count": 18,
     "metadata": {},
     "output_type": "execute_result"
    }
   ],
   "source": [
    "# check cross-validation\n",
    "results = cross_val_score(classifier, X_encoded, y, cv=5, verbose=4)\n",
    "results.mean()"
   ]
  },
  {
   "cell_type": "code",
   "execution_count": 19,
   "metadata": {},
   "outputs": [
    {
     "data": {
      "text/plain": [
       "<AxesSubplot:xlabel='Feature', ylabel='Importance'>"
      ]
     },
     "execution_count": 19,
     "metadata": {},
     "output_type": "execute_result"
    },
    {
     "data": {
      "image/png": "[encoded data removed]",
      "text/plain": [
       "<Figure size 1440x360 with 1 Axes>"
      ]
     },
     "metadata": {},
     "output_type": "display_data"
    }
   ],
   "source": [
    "# draw histogram of importances of each feature\n",
    "importances = pd.DataFrame(zip(classifier.feature_importances_,classifier.feature_names_in_), columns=['Importance', 'Feature'])\n",
    "importances.sort_values(by='Importance', inplace=True, ascending=False)\n",
    "plt.figure(figsize=(20, 5))\n",
    "sns.barplot(x='Feature', y='Importance', data=importances)"
   ]
  },
  {
   "cell_type": "markdown",
   "metadata": {},
   "source": [
    "## Prepare the Test Data"
   ]
  },
  {
   "cell_type": "code",
   "execution_count": 20,
   "metadata": {},
   "outputs": [
    {
     "data": {
      "text/plain": [
       "(418, 9)"
      ]
     },
     "execution_count": 20,
     "metadata": {},
     "output_type": "execute_result"
    }
   ],
   "source": [
    "passengers_test = pd.read_csv('./data/test.csv', index_col=0)\n",
    "# process columns Ticket, Age, Class\n",
    "passengers_test = engineer_class(passengers_test)\n",
    "passengers_test = engineer_age(passengers_test)\n",
    "passengers_test = engineer_ticket(passengers_test)\n",
    "\n",
    "del passengers_test['Name']\n",
    "passengers_test.shape "
   ]
  },
  {
   "cell_type": "code",
   "execution_count": 21,
   "metadata": {},
   "outputs": [
    {
     "name": "stdout",
     "output_type": "stream",
     "text": [
      "Nr. of NaN in column Pclass 0\n",
      "Nr. of NaN in column Sex 0\n",
      "Nr. of NaN in column Age 0\n",
      "Nr. of NaN in column SibSp 0\n",
      "Nr. of NaN in column Parch 0\n",
      "Nr. of NaN in column Fare 1\n",
      "Nr. of NaN in column Cabin 0\n",
      "Nr. of NaN in column Embarked 0\n",
      "Nr. of NaN in column Ticket_frequency 0\n"
     ]
    },
    {
     "data": {
      "text/html": [
       "<div>\n",
       "<style scoped>\n",
       "    .dataframe tbody tr th:only-of-type {\n",
       "        vertical-align: middle;\n",
       "    }\n",
       "\n",
       "    .dataframe tbody tr th {\n",
       "        vertical-align: top;\n",
       "    }\n",
       "\n",
       "    .dataframe thead th {\n",
       "        text-align: right;\n",
       "    }\n",
       "</style>\n",
       "<table border=\"1\" class=\"dataframe\">\n",
       "  <thead>\n",
       "    <tr style=\"text-align: right;\">\n",
       "      <th></th>\n",
       "      <th>Pclass</th>\n",
       "      <th>Sex</th>\n",
       "      <th>Age</th>\n",
       "      <th>SibSp</th>\n",
       "      <th>Parch</th>\n",
       "      <th>Fare</th>\n",
       "      <th>Cabin</th>\n",
       "      <th>Embarked</th>\n",
       "      <th>Ticket_frequency</th>\n",
       "    </tr>\n",
       "    <tr>\n",
       "      <th>PassengerId</th>\n",
       "      <th></th>\n",
       "      <th></th>\n",
       "      <th></th>\n",
       "      <th></th>\n",
       "      <th></th>\n",
       "      <th></th>\n",
       "      <th></th>\n",
       "      <th></th>\n",
       "      <th></th>\n",
       "    </tr>\n",
       "  </thead>\n",
       "  <tbody>\n",
       "    <tr>\n",
       "      <th>1044</th>\n",
       "      <td>3</td>\n",
       "      <td>male</td>\n",
       "      <td>60.5</td>\n",
       "      <td>0</td>\n",
       "      <td>0</td>\n",
       "      <td>NaN</td>\n",
       "      <td>unknown</td>\n",
       "      <td>S</td>\n",
       "      <td>1</td>\n",
       "    </tr>\n",
       "  </tbody>\n",
       "</table>\n",
       "</div>"
      ],
      "text/plain": [
       "             Pclass   Sex   Age  SibSp  Parch  Fare    Cabin Embarked  \\\n",
       "PassengerId                                                             \n",
       "1044              3  male  60.5      0      0   NaN  unknown        S   \n",
       "\n",
       "             Ticket_frequency  \n",
       "PassengerId                    \n",
       "1044                        1  "
      ]
     },
     "execution_count": 21,
     "metadata": {},
     "output_type": "execute_result"
    }
   ],
   "source": [
    "# counts NaNs for each column\n",
    "for column in passengers_test.columns:\n",
    "    print('Nr. of NaN in column ' + column + ' ' + str(passengers_test[column].isna().sum()))\n",
    "passengers_test[passengers_test['Fare'].isnull()]    "
   ]
  },
  {
   "cell_type": "code",
   "execution_count": 22,
   "metadata": {},
   "outputs": [],
   "source": [
    "# fill the 1 NaN in Fare \n",
    "class3_male_fare_mean = passengers_test[(passengers_test['Pclass']==3) & (passengers_test['Sex']=='male')]['Fare'].mean() # mean fare of Class 3 males\n",
    "passengers_test.loc[(passengers_test['Pclass']==3) & (passengers_test['Sex']=='male') & (passengers_test['Fare'].isnull()), 'Fare'] = class3_male_fare_mean"
   ]
  },
  {
   "cell_type": "code",
   "execution_count": 23,
   "metadata": {},
   "outputs": [],
   "source": [
    "# create new ordinal feature family_size from Parch (parents+children) and Sibsp (siblings+spouses)\n",
    "passengers_test['Family_Size'] = passengers_test['SibSp'] + passengers_test['Parch'] + 1\n",
    "del passengers_test['SibSp']\n",
    "del passengers_test['Parch']"
   ]
  },
  {
   "cell_type": "code",
   "execution_count": 24,
   "metadata": {},
   "outputs": [
    {
     "data": {
      "text/plain": [
       "(418, 17)"
      ]
     },
     "execution_count": 24,
     "metadata": {},
     "output_type": "execute_result"
    }
   ],
   "source": [
    "# encode categorical data\n",
    "# one-hot encode Sex\n",
    "X = passengers_test\n",
    "transformer = make_column_transformer((OneHotEncoder(drop='if_binary'), ['Sex']), remainder='passthrough', verbose_feature_names_out=False)\n",
    "X = pd.DataFrame(transformer.fit_transform(X), columns=transformer.get_feature_names_out()) # put transformed feature back in X\n",
    "# one-hot encode Embarked\n",
    "transformer = make_column_transformer((OneHotEncoder(), ['Embarked']), remainder='passthrough', verbose_feature_names_out=False)\n",
    "X = pd.DataFrame(transformer.fit_transform(X), columns=transformer.get_feature_names_out()) # put transformed feature back in X\n",
    "# one-hot encode Cabin\n",
    "transformer = make_column_transformer((OneHotEncoder(), ['Cabin']), remainder='passthrough', verbose_feature_names_out=False)\n",
    "X = pd.DataFrame(transformer.fit_transform(X), columns=transformer.get_feature_names_out()) # put transformed feature back in X\n",
    "\n",
    "id_column = passengers_test.index\n",
    "X_test_encoded = X.astype(int)\n",
    "X_test_encoded.shape"
   ]
  },
  {
   "cell_type": "code",
   "execution_count": 25,
   "metadata": {},
   "outputs": [
    {
     "data": {
      "text/html": [
       "<div>\n",
       "<style scoped>\n",
       "    .dataframe tbody tr th:only-of-type {\n",
       "        vertical-align: middle;\n",
       "    }\n",
       "\n",
       "    .dataframe tbody tr th {\n",
       "        vertical-align: top;\n",
       "    }\n",
       "\n",
       "    .dataframe thead th {\n",
       "        text-align: right;\n",
       "    }\n",
       "</style>\n",
       "<table border=\"1\" class=\"dataframe\">\n",
       "  <thead>\n",
       "    <tr style=\"text-align: right;\">\n",
       "      <th></th>\n",
       "      <th>Cabin_A</th>\n",
       "      <th>Cabin_B</th>\n",
       "      <th>Cabin_C</th>\n",
       "      <th>Cabin_D</th>\n",
       "      <th>Cabin_E</th>\n",
       "      <th>Cabin_F</th>\n",
       "      <th>Cabin_G</th>\n",
       "      <th>Cabin_unknown</th>\n",
       "      <th>Embarked_C</th>\n",
       "      <th>Embarked_Q</th>\n",
       "      <th>Embarked_S</th>\n",
       "      <th>Sex_male</th>\n",
       "      <th>Pclass</th>\n",
       "      <th>Age</th>\n",
       "      <th>Fare</th>\n",
       "      <th>Ticket_frequency</th>\n",
       "      <th>Family_Size</th>\n",
       "    </tr>\n",
       "  </thead>\n",
       "  <tbody>\n",
       "    <tr>\n",
       "      <th>0</th>\n",
       "      <td>0</td>\n",
       "      <td>0</td>\n",
       "      <td>0</td>\n",
       "      <td>0</td>\n",
       "      <td>0</td>\n",
       "      <td>0</td>\n",
       "      <td>0</td>\n",
       "      <td>1</td>\n",
       "      <td>0</td>\n",
       "      <td>1</td>\n",
       "      <td>0</td>\n",
       "      <td>1</td>\n",
       "      <td>3</td>\n",
       "      <td>34</td>\n",
       "      <td>7</td>\n",
       "      <td>1</td>\n",
       "      <td>1</td>\n",
       "    </tr>\n",
       "    <tr>\n",
       "      <th>1</th>\n",
       "      <td>0</td>\n",
       "      <td>0</td>\n",
       "      <td>0</td>\n",
       "      <td>0</td>\n",
       "      <td>0</td>\n",
       "      <td>0</td>\n",
       "      <td>0</td>\n",
       "      <td>1</td>\n",
       "      <td>0</td>\n",
       "      <td>0</td>\n",
       "      <td>1</td>\n",
       "      <td>0</td>\n",
       "      <td>3</td>\n",
       "      <td>47</td>\n",
       "      <td>7</td>\n",
       "      <td>1</td>\n",
       "      <td>2</td>\n",
       "    </tr>\n",
       "    <tr>\n",
       "      <th>2</th>\n",
       "      <td>0</td>\n",
       "      <td>0</td>\n",
       "      <td>0</td>\n",
       "      <td>0</td>\n",
       "      <td>0</td>\n",
       "      <td>0</td>\n",
       "      <td>0</td>\n",
       "      <td>1</td>\n",
       "      <td>0</td>\n",
       "      <td>1</td>\n",
       "      <td>0</td>\n",
       "      <td>1</td>\n",
       "      <td>2</td>\n",
       "      <td>62</td>\n",
       "      <td>9</td>\n",
       "      <td>1</td>\n",
       "      <td>1</td>\n",
       "    </tr>\n",
       "    <tr>\n",
       "      <th>3</th>\n",
       "      <td>0</td>\n",
       "      <td>0</td>\n",
       "      <td>0</td>\n",
       "      <td>0</td>\n",
       "      <td>0</td>\n",
       "      <td>0</td>\n",
       "      <td>0</td>\n",
       "      <td>1</td>\n",
       "      <td>0</td>\n",
       "      <td>0</td>\n",
       "      <td>1</td>\n",
       "      <td>1</td>\n",
       "      <td>3</td>\n",
       "      <td>27</td>\n",
       "      <td>8</td>\n",
       "      <td>1</td>\n",
       "      <td>1</td>\n",
       "    </tr>\n",
       "    <tr>\n",
       "      <th>4</th>\n",
       "      <td>0</td>\n",
       "      <td>0</td>\n",
       "      <td>0</td>\n",
       "      <td>0</td>\n",
       "      <td>0</td>\n",
       "      <td>0</td>\n",
       "      <td>0</td>\n",
       "      <td>1</td>\n",
       "      <td>0</td>\n",
       "      <td>0</td>\n",
       "      <td>1</td>\n",
       "      <td>0</td>\n",
       "      <td>3</td>\n",
       "      <td>22</td>\n",
       "      <td>12</td>\n",
       "      <td>1</td>\n",
       "      <td>3</td>\n",
       "    </tr>\n",
       "    <tr>\n",
       "      <th>...</th>\n",
       "      <td>...</td>\n",
       "      <td>...</td>\n",
       "      <td>...</td>\n",
       "      <td>...</td>\n",
       "      <td>...</td>\n",
       "      <td>...</td>\n",
       "      <td>...</td>\n",
       "      <td>...</td>\n",
       "      <td>...</td>\n",
       "      <td>...</td>\n",
       "      <td>...</td>\n",
       "      <td>...</td>\n",
       "      <td>...</td>\n",
       "      <td>...</td>\n",
       "      <td>...</td>\n",
       "      <td>...</td>\n",
       "      <td>...</td>\n",
       "    </tr>\n",
       "    <tr>\n",
       "      <th>413</th>\n",
       "      <td>0</td>\n",
       "      <td>0</td>\n",
       "      <td>0</td>\n",
       "      <td>0</td>\n",
       "      <td>0</td>\n",
       "      <td>0</td>\n",
       "      <td>0</td>\n",
       "      <td>1</td>\n",
       "      <td>0</td>\n",
       "      <td>0</td>\n",
       "      <td>1</td>\n",
       "      <td>1</td>\n",
       "      <td>3</td>\n",
       "      <td>24</td>\n",
       "      <td>8</td>\n",
       "      <td>1</td>\n",
       "      <td>1</td>\n",
       "    </tr>\n",
       "    <tr>\n",
       "      <th>414</th>\n",
       "      <td>0</td>\n",
       "      <td>0</td>\n",
       "      <td>1</td>\n",
       "      <td>0</td>\n",
       "      <td>0</td>\n",
       "      <td>0</td>\n",
       "      <td>0</td>\n",
       "      <td>0</td>\n",
       "      <td>1</td>\n",
       "      <td>0</td>\n",
       "      <td>0</td>\n",
       "      <td>0</td>\n",
       "      <td>1</td>\n",
       "      <td>39</td>\n",
       "      <td>108</td>\n",
       "      <td>1</td>\n",
       "      <td>1</td>\n",
       "    </tr>\n",
       "    <tr>\n",
       "      <th>415</th>\n",
       "      <td>0</td>\n",
       "      <td>0</td>\n",
       "      <td>0</td>\n",
       "      <td>0</td>\n",
       "      <td>0</td>\n",
       "      <td>0</td>\n",
       "      <td>0</td>\n",
       "      <td>1</td>\n",
       "      <td>0</td>\n",
       "      <td>0</td>\n",
       "      <td>1</td>\n",
       "      <td>1</td>\n",
       "      <td>3</td>\n",
       "      <td>38</td>\n",
       "      <td>7</td>\n",
       "      <td>1</td>\n",
       "      <td>1</td>\n",
       "    </tr>\n",
       "    <tr>\n",
       "      <th>416</th>\n",
       "      <td>0</td>\n",
       "      <td>0</td>\n",
       "      <td>0</td>\n",
       "      <td>0</td>\n",
       "      <td>0</td>\n",
       "      <td>0</td>\n",
       "      <td>0</td>\n",
       "      <td>1</td>\n",
       "      <td>0</td>\n",
       "      <td>0</td>\n",
       "      <td>1</td>\n",
       "      <td>1</td>\n",
       "      <td>3</td>\n",
       "      <td>24</td>\n",
       "      <td>8</td>\n",
       "      <td>1</td>\n",
       "      <td>1</td>\n",
       "    </tr>\n",
       "    <tr>\n",
       "      <th>417</th>\n",
       "      <td>0</td>\n",
       "      <td>0</td>\n",
       "      <td>0</td>\n",
       "      <td>0</td>\n",
       "      <td>0</td>\n",
       "      <td>0</td>\n",
       "      <td>0</td>\n",
       "      <td>1</td>\n",
       "      <td>1</td>\n",
       "      <td>0</td>\n",
       "      <td>0</td>\n",
       "      <td>1</td>\n",
       "      <td>3</td>\n",
       "      <td>24</td>\n",
       "      <td>22</td>\n",
       "      <td>1</td>\n",
       "      <td>3</td>\n",
       "    </tr>\n",
       "  </tbody>\n",
       "</table>\n",
       "<p>418 rows × 17 columns</p>\n",
       "</div>"
      ],
      "text/plain": [
       "     Cabin_A  Cabin_B  Cabin_C  Cabin_D  Cabin_E  Cabin_F  Cabin_G  \\\n",
       "0          0        0        0        0        0        0        0   \n",
       "1          0        0        0        0        0        0        0   \n",
       "2          0        0        0        0        0        0        0   \n",
       "3          0        0        0        0        0        0        0   \n",
       "4          0        0        0        0        0        0        0   \n",
       "..       ...      ...      ...      ...      ...      ...      ...   \n",
       "413        0        0        0        0        0        0        0   \n",
       "414        0        0        1        0        0        0        0   \n",
       "415        0        0        0        0        0        0        0   \n",
       "416        0        0        0        0        0        0        0   \n",
       "417        0        0        0        0        0        0        0   \n",
       "\n",
       "     Cabin_unknown  Embarked_C  Embarked_Q  Embarked_S  Sex_male  Pclass  Age  \\\n",
       "0                1           0           1           0         1       3   34   \n",
       "1                1           0           0           1         0       3   47   \n",
       "2                1           0           1           0         1       2   62   \n",
       "3                1           0           0           1         1       3   27   \n",
       "4                1           0           0           1         0       3   22   \n",
       "..             ...         ...         ...         ...       ...     ...  ...   \n",
       "413              1           0           0           1         1       3   24   \n",
       "414              0           1           0           0         0       1   39   \n",
       "415              1           0           0           1         1       3   38   \n",
       "416              1           0           0           1         1       3   24   \n",
       "417              1           1           0           0         1       3   24   \n",
       "\n",
       "     Fare  Ticket_frequency  Family_Size  \n",
       "0       7                 1            1  \n",
       "1       7                 1            2  \n",
       "2       9                 1            1  \n",
       "3       8                 1            1  \n",
       "4      12                 1            3  \n",
       "..    ...               ...          ...  \n",
       "413     8                 1            1  \n",
       "414   108                 1            1  \n",
       "415     7                 1            1  \n",
       "416     8                 1            1  \n",
       "417    22                 1            3  \n",
       "\n",
       "[418 rows x 17 columns]"
      ]
     },
     "execution_count": 25,
     "metadata": {},
     "output_type": "execute_result"
    }
   ],
   "source": [
    "X_test_encoded"
   ]
  },
  {
   "cell_type": "code",
   "execution_count": 26,
   "metadata": {},
   "outputs": [
    {
     "data": {
      "text/plain": [
       "(418,)"
      ]
     },
     "execution_count": 26,
     "metadata": {},
     "output_type": "execute_result"
    }
   ],
   "source": [
    "# make predictions based on Model\n",
    "y_pred_test = classifier.predict(X_test_encoded)\n",
    "y_pred_test.shape"
   ]
  },
  {
   "cell_type": "code",
   "execution_count": 27,
   "metadata": {},
   "outputs": [],
   "source": [
    "# write titanic kaggle .csv submission\n",
    "y_pred_column = pd.DataFrame(y_pred_test, id_column, columns=['Survived'])\n",
    "y_pred_column.to_csv('./output/solution.csv')"
   ]
  }
 ],
 "metadata": {
  "kernelspec": {
   "display_name": "Python 3.9.12 ('base')",
   "language": "python",
   "name": "python3"
  },
  "language_info": {
   "codemirror_mode": {
    "name": "ipython",
    "version": 3
   },
   "file_extension": ".py",
   "mimetype": "text/x-python",
   "name": "python",
   "nbconvert_exporter": "python",
   "pygments_lexer": "ipython3",
   "version": "3.9.12"
  },
  "orig_nbformat": 4,
  "vscode": {
   "interpreter": {
    "hash": "6deebe2b6c7a3fc5cd075ffe89f3ba7e7310f85d9af63e76c7275543219241fc"
   }
  }
 },
 "nbformat": 4,
 "nbformat_minor": 2
}
