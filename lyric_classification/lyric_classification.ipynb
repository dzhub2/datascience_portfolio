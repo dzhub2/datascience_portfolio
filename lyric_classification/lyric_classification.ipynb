{
 "cells": [
  {
   "cell_type": "code",
   "execution_count": 76,
   "metadata": {},
   "outputs": [
    {
     "data": {
      "text/plain": [
       "\" \\nBuild a text classification model on song lyrics. First, we scrap lyrics.com for two artists' (artist name input by hand)\\nlyrics. Following, vectorization on the lyrics corpus is performed and a variety of classification models\\nare compared. The result is a ML model which predicts, for any user given sentence, which artist most likely used\\nthis sentence in their lyrics.\\n\""
      ]
     },
     "execution_count": 76,
     "metadata": {},
     "output_type": "execute_result"
    }
   ],
   "source": [
    "\"\"\" \n",
    "Build a text classification model on song lyrics. First, we scrap lyrics.com for two artists' (artist name input by hand)\n",
    "lyrics. Following, vectorization on the lyrics corpus is performed and a variety of classification models\n",
    "are compared. The result is a ML model which predicts, for any user given sentence, which artist most likely used\n",
    "this sentence in their lyrics.\n",
    "\"\"\""
   ]
  },
  {
   "cell_type": "code",
   "execution_count": 77,
   "metadata": {},
   "outputs": [],
   "source": [
    "%reset -f\n",
    "import pandas as pd\n",
    "from matplotlib import pyplot as plt\n",
    "import seaborn as sns\n",
    "sns.set()\n",
    "import requests\n",
    "import re\n",
    "from bs4 import BeautifulSoup\n",
    "import os\n",
    "import numpy as np\n",
    "from scipy.stats import uniform\n",
    "import urllib.parse\n",
    "\n",
    "from sklearn.model_selection import train_test_split, RandomizedSearchCV\n",
    "from sklearn.metrics import accuracy_score\n",
    "from sklearn.pipeline import Pipeline\n",
    "from sklearn.linear_model import LogisticRegression\n",
    "from sklearn.feature_extraction.text import TfidfVectorizer\n",
    "from sklearn.naive_bayes import MultinomialNB\n",
    "from sklearn.neighbors import KNeighborsClassifier\n",
    "from sklearn.svm import SVC\n",
    "from sklearn.tree import DecisionTreeClassifier\n",
    "from sklearn.ensemble import RandomForestClassifier\n",
    "import lightgbm as lgb\n"
   ]
  },
  {
   "cell_type": "markdown",
   "metadata": {},
   "source": [
    "# 1. Web Scrapping  & Processing of the Corpus"
   ]
  },
  {
   "cell_type": "code",
   "execution_count": 78,
   "metadata": {},
   "outputs": [],
   "source": [
    "def get_hyperlinks(artist):\n",
    "    \"\"\" Crawl lyrics.com, extract the hyperlinks for every song listed under a specified artist\"\"\"\n",
    "    #get all lyric-hyperlinks for specific artist\n",
    "    r = requests.get('https://www.lyrics.com/artist' + artist)\n",
    "    text = r.text # get all beach boy songs in html\n",
    "    pattern = r\"<a href=\\\"\\/lyric\\/(.*?)\\\">\"\n",
    "    text_extracted = re.findall(pattern, text) # get all hyperlinks to lyrics\n",
    "    hyperlinks = ['https://www.lyrics.com/lyric/' + s for s in text_extracted] # create proper addresses\n",
    "    return hyperlinks\n",
    "\n",
    "def get_unique_hyperlinks(hyperlinks, search_word):\n",
    "    \"\"\" Scan the complete list of artist hyperlinks and removes all duplicate songs, e.g. song1 and\n",
    "    song1 [Stereo] to only extract song1 once. Returns a list of unique hyperlinks and corresponing song names.\n",
    "    \n",
    "    Arg: search_word...specify the string in the lyrics-URL before the song name starts. Needs to be looked up manually\"\"\"\n",
    "    # clean the song titles\n",
    "    pattern = '(?<=' + search_word + '/).*'\n",
    "    song_titles = [re.findall(pattern, link)[0] for link in hyperlinks] # extract song titles\n",
    "    song_titles = [urllib.parse.unquote_plus(title) for title in song_titles] # remove % symbols\n",
    "    song_titles = [re.search(r\"[^\\[\\]]*\", title)[0] for title in song_titles] # remove brackets like [Mono]\n",
    "    song_titles = [re.search(r\"[^()]*\", title)[0] for title in song_titles] # remove brackets like (Track #1)\n",
    "    song_titles = [remove_punc_generator(title) for title in song_titles] # remove special characters\n",
    "    song_titles = [title.lower() for title in song_titles] # make everything lower case\n",
    "    song_titles = [re.sub(r\"[ \\t]+$\", '', title) for title in song_titles]  #remove trailing white spaces\n",
    "    song_titles = [re.sub(r\"'\", '', title) for title in song_titles]  # remove ' symbols\n",
    "    # find unique song titles\n",
    "    unique_songs = []\n",
    "    idx = -1\n",
    "    idx_list =[]\n",
    "    for song in song_titles:\n",
    "        idx += 1\n",
    "        if song not in unique_songs:\n",
    "            unique_songs.append(song)\n",
    "            idx_list.append(idx)\n",
    "    unique_links = [hyperlinks[idx] for idx in idx_list]\n",
    "    return unique_links, unique_songs\n",
    "\n",
    "def save_lyrics(hyperlinks, save_folder):\n",
    "    \"\"\" Save lyrics for each link/song into a file. If save_folder doesn't already exist, it will be created.\"\"\"\n",
    "    os.makedirs(\"./output/\" + save_folder, exist_ok=True) \n",
    "    counter = 0\n",
    "    for link in hyperlinks:\n",
    "        try: # some links dont contain lyrics, skip them\n",
    "            counter += 1\n",
    "            ## download lyrics for each link and save to file\n",
    "            r = requests.get(link)\n",
    "            text = r.text # get lyrics as html\n",
    "            soup = BeautifulSoup(text)\n",
    "            soup = soup.find(id=\"lyric-body-text\") # get lyrics text block\n",
    "            lyrics = soup.get_text()\n",
    "            lyrics = lyrics.replace(\"\\r\", \"\")\n",
    "            lyrics = lyrics.replace(\"\\n\", \" \")\n",
    "            # save to file\n",
    "            f = open(\"./output/\"+ save_folder + \"/lyric\" + str(counter) + \".txt\", \"w\")\n",
    "            f.write(lyrics)\n",
    "            f.close()\n",
    "            print(f'Saving file nr. {counter}  out of {len(hyperlinks)} in folder {save_folder} complete.')\n",
    "        except:\n",
    "            pass\n",
    "    return True\n",
    "\n",
    "def remove_punc_generator(string):\n",
    "    punc = \".!’‘()-[]{};,:?@#$%^&*_\\\"~\"\n",
    "    for element in string:  \n",
    "        if element in punc:  \n",
    "            string = string.replace(element, \"\") \n",
    "    return string\n",
    "\n",
    "def create_corpus(save_folder):\n",
    "    \"\"\" Loads all created lyric files, cleans them up and outputs the pre-processed corpus.\"\"\"\n",
    "    corpus = []\n",
    "    #load data\n",
    "    for filename in os.listdir('./output/'+save_folder):\n",
    "        with open(os.path.join('./output/'+save_folder, filename), 'r') as f: # open in readonly mode\n",
    "            data = f.read()\n",
    "            f.close()\n",
    "            data = data.lower() # make all strings lowercase\n",
    "            data = remove_punc_generator(data) #remove punctuation defined above\n",
    "            data = data.replace(\"'\", \"\")\n",
    "            data = data.replace(\"cause\", \"because\")\n",
    "            corpus.append(data)\n",
    "    return corpus\n"
   ]
  },
  {
   "cell_type": "code",
   "execution_count": 79,
   "metadata": {},
   "outputs": [],
   "source": [
    "download_switch = 0 # set = 0 if you already have your lyrics data previously downloaded and saved\n",
    "\n",
    "if download_switch != 0:\n",
    "    # download artist1\n",
    "    hyperlinks = get_hyperlinks('/The-Beach-Boys/3640')\n",
    "    search_word = 'Boys'\n",
    "    unique_hyperlinks, _ = get_unique_hyperlinks(hyperlinks, search_word)\n",
    "    save_folder = 'beachboys'\n",
    "    save_lyrics(unique_hyperlinks, save_folder)\n",
    "    # download artist2\n",
    "    hyperlinks = get_hyperlinks('/Pretenders/5177')\n",
    "    search_word = 'Pretenders'\n",
    "    unique_hyperlinks, _ = get_unique_hyperlinks(hyperlinks, search_word)\n",
    "    save_folder = 'pretenders'\n",
    "    save_lyrics(unique_hyperlinks, save_folder)\n"
   ]
  },
  {
   "cell_type": "code",
   "execution_count": 80,
   "metadata": {},
   "outputs": [],
   "source": [
    "#clean data and create corpus\n",
    "save_folder = 'beachboys'\n",
    "artist1_corpus = create_corpus(save_folder)\n",
    "save_folder = 'pretenders'\n",
    "artist2_corpus = create_corpus(save_folder)"
   ]
  },
  {
   "cell_type": "code",
   "execution_count": 81,
   "metadata": {},
   "outputs": [],
   "source": [
    "labels = ['BeachBoys'] * len(artist1_corpus) + ['Pretenders'] * len(artist2_corpus)\n",
    "text = artist1_corpus+artist2_corpus\n",
    "lyrics = pd.DataFrame({'text':text ,'artist': labels})"
   ]
  },
  {
   "cell_type": "code",
   "execution_count": 82,
   "metadata": {},
   "outputs": [],
   "source": [
    "# vectorize your corpus\n",
    "vectorizer = TfidfVectorizer(stop_words=['english'], min_df=2, max_df=0.7)\n",
    "X_text = vectorizer.fit_transform(text)\n",
    "lyrics_vectorized_df = pd.DataFrame(X_text.toarray(), columns=vectorizer.get_feature_names_out(), index=labels)"
   ]
  },
  {
   "cell_type": "markdown",
   "metadata": {},
   "source": [
    "# 2. Model Building"
   ]
  },
  {
   "cell_type": "code",
   "execution_count": 83,
   "metadata": {},
   "outputs": [],
   "source": [
    "X = X_text\n",
    "y = labels\n",
    "# split into train and test set\n",
    "X_train, X_test, y_train, y_test = train_test_split(X, y, test_size=0.2, stratify=y, random_state=0)"
   ]
  },
  {
   "cell_type": "code",
   "execution_count": 84,
   "metadata": {},
   "outputs": [],
   "source": [
    "model_label = []\n",
    "estimator = []\n",
    "best_cv_score = []\n",
    "best_accuracy_score = []\n",
    "example_prob_result = []\n",
    "nonsense_prob_result = []\n",
    "# define parameters for ALL grid searches\n",
    "n_iter = 25\n",
    "scoring = 'accuracy' \n",
    "cv = 5  \n",
    "verbose = 1\n",
    "return_train_score = False\n",
    "random_state = 0\n",
    "n_jobs = -1\n",
    "example_sentence = [\"Surfin' is life The only way\"] # test: choose a sentence which is closely related to a lyric, but not contained in training/testing set\n",
    "nonsense_sentence = [\"hretge ervergg t434geeg\"] # a nonsensical string that is NOT inside the corpus"
   ]
  },
  {
   "cell_type": "markdown",
   "metadata": {},
   "source": [
    "### Logistic Regression"
   ]
  },
  {
   "cell_type": "code",
   "execution_count": 85,
   "metadata": {},
   "outputs": [
    {
     "name": "stdout",
     "output_type": "stream",
     "text": [
      "Fitting 5 folds for each of 25 candidates, totalling 125 fits\n",
      "Best parameter for grid search (CV score=0.7989):\n",
      "{'logistic__tol': 0.01, 'logistic__penalty': 'l2', 'logistic__fit_intercept': False, 'logistic__C': 2.9320224312424283}\n",
      "Training Set performance: \n",
      "0.7938144329896907\n"
     ]
    }
   ],
   "source": [
    "model_label.append('logistic')\n",
    "classifier = LogisticRegression(max_iter=10000, random_state=False)\n",
    "pipe = Pipeline(steps=[(\"logistic\", classifier)])\n",
    "\n",
    "# set up param distributions for grid search\n",
    "param_dist = {\n",
    "    \"logistic__C\": uniform(loc=0, scale=4).rvs(size=100), #set how many random values to generate\n",
    "    \"logistic__tol\": [1e-4, 1e-3, 1e-2, 1e-1],\n",
    "    \"logistic__fit_intercept\": [False, True],\n",
    "    \"logistic__penalty\": ['l2'],\n",
    "}\n",
    "search = RandomizedSearchCV(pipe, param_dist, n_iter= n_iter, scoring=scoring,\n",
    "                            cv=cv, verbose=verbose, return_train_score=return_train_score,\n",
    "                            random_state=random_state, n_jobs=n_jobs)\n",
    "\n",
    "search.fit(X_train, y_train)\n",
    "\n",
    "print(\"Best parameter for grid search (CV score=%0.4f):\" % search.best_score_)\n",
    "print(search.best_params_)\n",
    "print(\"Training Set performance: \")\n",
    "y_pred = search.best_estimator_.predict(X_test)\n",
    "print(accuracy_score(y_test, y_pred))\n",
    "#save data for model comparison later\n",
    "estimator.append(search.best_estimator_)\n",
    "best_cv_score.append(search.best_score_)\n",
    "best_accuracy_score.append(accuracy_score(y_test, y_pred))"
   ]
  },
  {
   "cell_type": "code",
   "execution_count": 86,
   "metadata": {},
   "outputs": [
    {
     "name": "stdout",
     "output_type": "stream",
     "text": [
      "[[0.72372544 0.27627456]]\n",
      "['BeachBoys' 'Pretenders']\n",
      "[[0.5 0.5]]\n",
      "['BeachBoys' 'Pretenders']\n"
     ]
    }
   ],
   "source": [
    "example_prob_result.append(estimator[-1].predict_proba(vectorizer.transform(example_sentence).toarray()))\n",
    "print(estimator[-1].predict_proba(vectorizer.transform(example_sentence).toarray())) #make a single, custom prediction\n",
    "print(estimator[-1].classes_)\n",
    "\n",
    "nonsense_prob_result.append(estimator[-1].predict_proba(vectorizer.transform(nonsense_sentence).toarray()))\n",
    "print(estimator[-1].predict_proba(vectorizer.transform(nonsense_sentence).toarray())) #make a single, custom prediction\n",
    "print(estimator[-1].classes_)"
   ]
  },
  {
   "cell_type": "markdown",
   "metadata": {},
   "source": [
    "### Naive Bayes"
   ]
  },
  {
   "cell_type": "code",
   "execution_count": 87,
   "metadata": {},
   "outputs": [
    {
     "name": "stdout",
     "output_type": "stream",
     "text": [
      "Fitting 5 folds for each of 25 candidates, totalling 125 fits\n",
      "Best parameter for grid search (CV score=0.8324):\n",
      "{'bayes__alpha': 0.0686256783673862}\n",
      "Training Set performance: \n",
      "0.8041237113402062\n"
     ]
    }
   ],
   "source": [
    "model_label.append('bayes')\n",
    "classifier = MultinomialNB(fit_prior=False)\n",
    "pipe = Pipeline(steps=[(\"bayes\", classifier)])\n",
    "\n",
    "# set up param distributions for grid search\n",
    "param_dist = {\n",
    "    \"bayes__alpha\": uniform(loc=0, scale=2).rvs(size=500), #set how many random values to generate\n",
    "}\n",
    "search = RandomizedSearchCV(pipe, param_dist, n_iter= n_iter, scoring=scoring,\n",
    "                            cv=cv, verbose=verbose, return_train_score=return_train_score,\n",
    "                            random_state=random_state, n_jobs=n_jobs)\n",
    "\n",
    "search.fit(X_train, y_train)\n",
    "\n",
    "print(\"Best parameter for grid search (CV score=%0.4f):\" % search.best_score_)\n",
    "print(search.best_params_)\n",
    "print(\"Training Set performance: \")\n",
    "y_pred = search.best_estimator_.predict(X_test)\n",
    "print(accuracy_score(y_test, y_pred))\n",
    "#save data for model comparison later\n",
    "estimator.append(search.best_estimator_)\n",
    "best_cv_score.append(search.best_score_)\n",
    "best_accuracy_score.append(accuracy_score(y_test, y_pred))"
   ]
  },
  {
   "cell_type": "code",
   "execution_count": 88,
   "metadata": {},
   "outputs": [
    {
     "name": "stdout",
     "output_type": "stream",
     "text": [
      "[[0.88708726 0.11291274]]\n",
      "['BeachBoys' 'Pretenders']\n",
      "[[0.5 0.5]]\n",
      "['BeachBoys' 'Pretenders']\n"
     ]
    }
   ],
   "source": [
    "example_prob_result.append(estimator[-1].predict_proba(vectorizer.transform(example_sentence).toarray()))\n",
    "print(estimator[-1].predict_proba(vectorizer.transform(example_sentence).toarray())) #make a single, custom prediction\n",
    "print(estimator[-1].classes_)\n",
    "\n",
    "nonsense_prob_result.append(estimator[-1].predict_proba(vectorizer.transform(nonsense_sentence).toarray()))\n",
    "print(estimator[-1].predict_proba(vectorizer.transform(nonsense_sentence).toarray())) #make a single, custom prediction\n",
    "print(estimator[-1].classes_)"
   ]
  },
  {
   "cell_type": "markdown",
   "metadata": {},
   "source": [
    "### K-Nearest Neighbour"
   ]
  },
  {
   "cell_type": "code",
   "execution_count": 89,
   "metadata": {},
   "outputs": [
    {
     "name": "stdout",
     "output_type": "stream",
     "text": [
      "Fitting 5 folds for each of 25 candidates, totalling 125 fits\n",
      "Best parameter for grid search (CV score=0.7758):\n",
      "{'knn__p': 1, 'knn__n_neighbors': 17, 'knn__leaf_size': 94}\n",
      "Training Set performance: \n",
      "0.7628865979381443\n"
     ]
    }
   ],
   "source": [
    "model_label.append('knn')\n",
    "classifier = KNeighborsClassifier(metric='euclidean')\n",
    "pipe = Pipeline(steps=[(\"knn\", classifier)])\n",
    "\n",
    "# set up param distributions for grid search\n",
    "param_dist = {\n",
    "    \"knn__p\": list(range(1,4,1)), \n",
    "    \"knn__n_neighbors\": list(range(1,25,1)), \n",
    "    \"knn__leaf_size\": list(range(1,100,1)), \n",
    "}\n",
    "search = RandomizedSearchCV(pipe, param_dist, n_iter= n_iter, scoring=scoring,\n",
    "                            cv=cv, verbose=verbose, return_train_score=return_train_score,\n",
    "                            random_state=random_state, n_jobs=n_jobs)\n",
    "\n",
    "search.fit(X_train, y_train)\n",
    "\n",
    "print(\"Best parameter for grid search (CV score=%0.4f):\" % search.best_score_)\n",
    "print(search.best_params_)\n",
    "print(\"Training Set performance: \")\n",
    "y_pred = search.best_estimator_.predict(X_test)\n",
    "print(accuracy_score(y_test, y_pred))\n",
    "#save data for model comparison later\n",
    "estimator.append(search.best_estimator_)\n",
    "best_cv_score.append(search.best_score_)\n",
    "best_accuracy_score.append(accuracy_score(y_test, y_pred))"
   ]
  },
  {
   "cell_type": "code",
   "execution_count": 90,
   "metadata": {},
   "outputs": [
    {
     "name": "stdout",
     "output_type": "stream",
     "text": [
      "[[0.76470588 0.23529412]]\n",
      "['BeachBoys' 'Pretenders']\n",
      "[[0.94117647 0.05882353]]\n",
      "['BeachBoys' 'Pretenders']\n"
     ]
    }
   ],
   "source": [
    "example_prob_result.append(estimator[-1].predict_proba(vectorizer.transform(example_sentence).toarray()))\n",
    "print(estimator[-1].predict_proba(vectorizer.transform(example_sentence).toarray())) #make a single, custom prediction\n",
    "print(estimator[-1].classes_)\n",
    "\n",
    "nonsense_prob_result.append(estimator[-1].predict_proba(vectorizer.transform(nonsense_sentence).toarray()))\n",
    "print(estimator[-1].predict_proba(vectorizer.transform(nonsense_sentence).toarray())) #make a single, custom prediction\n",
    "print(estimator[-1].classes_)"
   ]
  },
  {
   "cell_type": "markdown",
   "metadata": {},
   "source": [
    "### SVM"
   ]
  },
  {
   "cell_type": "code",
   "execution_count": 91,
   "metadata": {},
   "outputs": [
    {
     "name": "stdout",
     "output_type": "stream",
     "text": [
      "Fitting 5 folds for each of 25 candidates, totalling 125 fits\n",
      "Best parameter for grid search (CV score=0.8092):\n",
      "{'svm__kernel': 'linear', 'svm__gamma': 0.12231334616724343, 'svm__degree': 4, 'svm__C': 2.121447063452565}\n",
      "Training Set performance: \n",
      "0.865979381443299\n"
     ]
    }
   ],
   "source": [
    "model_label.append('svm')\n",
    "classifier = SVC(probability=True, random_state=0)\n",
    "pipe = Pipeline(steps=[(\"svm\", classifier)])\n",
    "\n",
    "# set up param distributions for grid search\n",
    "param_dist = {\n",
    "    \"svm__C\": uniform(loc=0, scale=5).rvs(size=50),\n",
    "    \"svm__kernel\": ['linear', 'poly', 'rbf'],\n",
    "    \"svm__degree\": [2, 3, 4, 5],\n",
    "    \"svm__gamma\": uniform(loc=0, scale=2).rvs(size=25),\n",
    "}\n",
    "search = RandomizedSearchCV(pipe, param_dist, n_iter=n_iter, scoring=scoring,\n",
    "                            cv=cv, verbose=verbose, return_train_score=return_train_score,\n",
    "                            random_state=random_state, n_jobs=n_jobs)\n",
    "\n",
    "search.fit(X_train, y_train)\n",
    "\n",
    "print(\"Best parameter for grid search (CV score=%0.4f):\" % search.best_score_)\n",
    "print(search.best_params_)\n",
    "print(\"Training Set performance: \")\n",
    "y_pred = search.best_estimator_.predict(X_test)\n",
    "print(accuracy_score(y_test, y_pred))\n",
    "#save data for model comparison later\n",
    "estimator.append(search.best_estimator_)\n",
    "best_cv_score.append(search.best_score_)\n",
    "best_accuracy_score.append(accuracy_score(y_test, y_pred))"
   ]
  },
  {
   "cell_type": "code",
   "execution_count": 92,
   "metadata": {},
   "outputs": [
    {
     "name": "stdout",
     "output_type": "stream",
     "text": [
      "[[0.89443448 0.10556552]]\n",
      "['BeachBoys' 'Pretenders']\n",
      "[[0.86833223 0.13166777]]\n",
      "['BeachBoys' 'Pretenders']\n"
     ]
    }
   ],
   "source": [
    "example_prob_result.append(estimator[-1].predict_proba(vectorizer.transform(example_sentence).toarray()))\n",
    "print(estimator[-1].predict_proba(vectorizer.transform(example_sentence).toarray())) #make a single, custom prediction\n",
    "print(estimator[-1].classes_)\n",
    "\n",
    "nonsense_prob_result.append(estimator[-1].predict_proba(vectorizer.transform(nonsense_sentence).toarray()))\n",
    "print(estimator[-1].predict_proba(vectorizer.transform(nonsense_sentence).toarray())) #make a single, custom prediction\n",
    "print(estimator[-1].classes_)"
   ]
  },
  {
   "cell_type": "markdown",
   "metadata": {},
   "source": [
    "### Decision Tree"
   ]
  },
  {
   "cell_type": "code",
   "execution_count": 93,
   "metadata": {},
   "outputs": [
    {
     "name": "stdout",
     "output_type": "stream",
     "text": [
      "Fitting 5 folds for each of 25 candidates, totalling 125 fits\n",
      "Best parameter for grid search (CV score=0.7629):\n",
      "{'decisiontree__max_depth': 8, 'decisiontree__criterion': 'gini'}\n",
      "Training Set performance: \n",
      "0.8144329896907216\n"
     ]
    }
   ],
   "source": [
    "model_label.append('decisiontree')\n",
    "classifier = DecisionTreeClassifier(random_state=0)\n",
    "pipe = Pipeline(steps=[(\"decisiontree\", classifier)])\n",
    "\n",
    "# set up param distributions for grid search\n",
    "param_dist = {\n",
    "    \"decisiontree__criterion\": ['gini', 'entropy', 'log_loss'],\n",
    "    \"decisiontree__max_depth\": list(range(1,50,1)),\n",
    "}\n",
    "search = RandomizedSearchCV(pipe, param_dist, n_iter= n_iter, scoring=scoring,\n",
    "                            cv=cv, verbose=verbose, return_train_score=return_train_score,\n",
    "                            random_state=random_state, n_jobs=n_jobs)\n",
    "\n",
    "search.fit(X_train, y_train)\n",
    "\n",
    "print(\"Best parameter for grid search (CV score=%0.4f):\" % search.best_score_)\n",
    "print(search.best_params_)\n",
    "print(\"Training Set performance: \")\n",
    "y_pred = search.best_estimator_.predict(X_test)\n",
    "print(accuracy_score(y_test, y_pred))\n",
    "#save data for model comparison later\n",
    "estimator.append(search.best_estimator_)\n",
    "best_cv_score.append(search.best_score_)\n",
    "best_accuracy_score.append(accuracy_score(y_test, y_pred))"
   ]
  },
  {
   "cell_type": "code",
   "execution_count": 94,
   "metadata": {},
   "outputs": [
    {
     "name": "stdout",
     "output_type": "stream",
     "text": [
      "[[0.91258741 0.08741259]]\n",
      "['BeachBoys' 'Pretenders']\n",
      "[[0.91258741 0.08741259]]\n",
      "['BeachBoys' 'Pretenders']\n"
     ]
    }
   ],
   "source": [
    "example_prob_result.append(estimator[-1].predict_proba(vectorizer.transform(example_sentence).toarray()))\n",
    "print(estimator[-1].predict_proba(vectorizer.transform(example_sentence).toarray())) #make a single, custom prediction\n",
    "print(estimator[-1].classes_)\n",
    "\n",
    "nonsense_prob_result.append(estimator[-1].predict_proba(vectorizer.transform(nonsense_sentence).toarray()))\n",
    "print(estimator[-1].predict_proba(vectorizer.transform(nonsense_sentence).toarray())) #make a single, custom prediction\n",
    "print(estimator[-1].classes_)"
   ]
  },
  {
   "cell_type": "markdown",
   "metadata": {},
   "source": [
    "### Random Forest"
   ]
  },
  {
   "cell_type": "code",
   "execution_count": 95,
   "metadata": {},
   "outputs": [
    {
     "name": "stdout",
     "output_type": "stream",
     "text": [
      "Fitting 5 folds for each of 25 candidates, totalling 125 fits\n",
      "Best parameter for grid search (CV score=0.7861):\n",
      "{'randomforest__n_estimators': 167, 'randomforest__max_depth': 64, 'randomforest__criterion': 'gini'}\n",
      "Training Set performance: \n",
      "0.7938144329896907\n"
     ]
    }
   ],
   "source": [
    "model_label.append('randomforest')\n",
    "classifier = RandomForestClassifier(random_state=0)\n",
    "pipe = Pipeline(steps=[(\"randomforest\", classifier)])\n",
    "\n",
    "# set up param distributions for grid search\n",
    "param_dist = {\n",
    "    \"randomforest__criterion\": ['gini'],\n",
    "    \"randomforest__n_estimators\": list(range(1,600,2)),\n",
    "    \"randomforest__max_depth\": list(range(1,80,1)),\n",
    "}\n",
    "search = RandomizedSearchCV(pipe, param_dist, n_iter= n_iter, scoring=scoring,\n",
    "                            cv=cv, verbose=verbose, return_train_score=return_train_score,\n",
    "                            random_state=random_state, n_jobs=n_jobs)\n",
    "\n",
    "search.fit(X_train, y_train)\n",
    "\n",
    "print(\"Best parameter for grid search (CV score=%0.4f):\" % search.best_score_)\n",
    "print(search.best_params_)\n",
    "print(\"Training Set performance: \")\n",
    "y_pred = search.best_estimator_.predict(X_test)\n",
    "print(accuracy_score(y_test, y_pred))\n",
    "#save data for model comparison later\n",
    "estimator.append(search.best_estimator_)\n",
    "best_cv_score.append(search.best_score_)\n",
    "best_accuracy_score.append(accuracy_score(y_test, y_pred))"
   ]
  },
  {
   "cell_type": "code",
   "execution_count": 96,
   "metadata": {},
   "outputs": [
    {
     "name": "stdout",
     "output_type": "stream",
     "text": [
      "[[0.69461078 0.30538922]]\n",
      "['BeachBoys' 'Pretenders']\n",
      "[[0.62275449 0.37724551]]\n",
      "['BeachBoys' 'Pretenders']\n"
     ]
    }
   ],
   "source": [
    "example_prob_result.append(estimator[-1].predict_proba(vectorizer.transform(example_sentence).toarray()))\n",
    "print(estimator[-1].predict_proba(vectorizer.transform(example_sentence).toarray())) #make a single, custom prediction\n",
    "print(estimator[-1].classes_)\n",
    "\n",
    "nonsense_prob_result.append(estimator[-1].predict_proba(vectorizer.transform(nonsense_sentence).toarray()))\n",
    "print(estimator[-1].predict_proba(vectorizer.transform(nonsense_sentence).toarray())) #make a single, custom prediction\n",
    "print(estimator[-1].classes_)"
   ]
  },
  {
   "cell_type": "markdown",
   "metadata": {},
   "source": [
    "### LightGBM"
   ]
  },
  {
   "cell_type": "code",
   "execution_count": 97,
   "metadata": {},
   "outputs": [
    {
     "name": "stdout",
     "output_type": "stream",
     "text": [
      "Fitting 5 folds for each of 25 candidates, totalling 125 fits\n",
      "Best parameter for grid search (CV score=0.8017):\n",
      "{'lgb__num_leaves': 24, 'lgb__n_estimators': 271, 'lgb__max_depth': 25, 'lgb__learning_rate': 0.2388357961946049, 'lgb__boosting_type': 'gbdt'}\n",
      "Training Set performance: \n",
      "0.7938144329896907\n"
     ]
    }
   ],
   "source": [
    "model_label.append('lgb')\n",
    "classifier = lgb.LGBMClassifier(random_state=0)\n",
    "pipe = Pipeline(steps=[('lgb', classifier)])\n",
    "\n",
    "# set up param distributions for grid search\n",
    "param_dist = {\n",
    "    \"lgb__n_estimators\": np.arange(1,500,2),\n",
    "    \"lgb__max_depth\": np.arange(1,50,1), # -1 == no limit\n",
    "    \"lgb__num_leaves\": np.arange(2,100,2), # -1 == no limit\n",
    "    \"lgb__boosting_type\": ['gbdt'], #'dart', 'goss', 'rf'\n",
    "    \"lgb__learning_rate\": uniform(loc=0.0001, scale=0.3).rvs(50),\n",
    "}                      \n",
    "\n",
    "search = RandomizedSearchCV(pipe, param_dist, n_iter= n_iter, scoring=scoring,\n",
    "                            cv=cv, return_train_score=return_train_score,\n",
    "                            verbose=verbose, random_state=random_state, n_jobs=n_jobs)\n",
    "\n",
    "search.fit(X_train, y_train)\n",
    "\n",
    "print(\"Best parameter for grid search (CV score=%0.4f):\" % search.best_score_)\n",
    "print(search.best_params_)\n",
    "print(\"Training Set performance: \")\n",
    "y_pred = search.best_estimator_.predict(X_test)\n",
    "print(accuracy_score(y_test, y_pred))\n",
    "#save data for model comparison later\n",
    "estimator.append(search.best_estimator_)\n",
    "best_cv_score.append(search.best_score_)\n",
    "best_accuracy_score.append(accuracy_score(y_test, y_pred))\n",
    "\n",
    "# # check cross-validation\n",
    "# results = cross_val_score(regressor, X, y, cv=5, verbose=4, scoring='neg_mean_squared_log_error')\n",
    "# print(results.mean())\n",
    "# print(f'CV mean RMSLE: {np.sqrt(-results.mean())}')\n"
   ]
  },
  {
   "cell_type": "code",
   "execution_count": 98,
   "metadata": {},
   "outputs": [
    {
     "name": "stdout",
     "output_type": "stream",
     "text": [
      "[[0.00484729 0.99515271]]\n",
      "['BeachBoys' 'Pretenders']\n",
      "[[0.00100323 0.99899677]]\n",
      "['BeachBoys' 'Pretenders']\n"
     ]
    }
   ],
   "source": [
    "example_prob_result.append(estimator[-1].predict_proba(vectorizer.transform(example_sentence).toarray()))\n",
    "print(estimator[-1].predict_proba(vectorizer.transform(example_sentence).toarray())) #make a single, custom prediction\n",
    "print(estimator[-1].classes_)\n",
    "\n",
    "nonsense_prob_result.append(estimator[-1].predict_proba(vectorizer.transform(nonsense_sentence).toarray()))\n",
    "print(estimator[-1].predict_proba(vectorizer.transform(nonsense_sentence).toarray())) #make a single, custom prediction\n",
    "print(estimator[-1].classes_)"
   ]
  },
  {
   "cell_type": "markdown",
   "metadata": {},
   "source": [
    "# 3. Model Comparison"
   ]
  },
  {
   "cell_type": "code",
   "execution_count": 127,
   "metadata": {},
   "outputs": [
    {
     "data": {
      "image/png": "[encoded data removed]",
      "text/plain": [
       "<Figure size 1008x1008 with 4 Axes>"
      ]
     },
     "metadata": {},
     "output_type": "display_data"
    }
   ],
   "source": [
    "example_prob = [example_prob_result[_][0][0] for _ in range(len(example_prob_result))] # extract prediction prob. for example sentence\n",
    "nonsense_prob = [nonsense_prob_result[_][0][0] for _ in range(len(nonsense_prob_result))] # extract prediction prob. for example sentence\n",
    "\n",
    "fig, axs = plt.subplots(4, 1, figsize=(14,14), sharey=True)\n",
    "colors = sns.color_palette(\"pastel\")\n",
    "\n",
    "axs[0].set_title(\"Model score comparisons\", fontsize=16)\n",
    "\n",
    "axs[0].bar(x=range(len(model_label)), height=example_prob, width=0.5, color=colors)\n",
    "axs[1].bar(x=range(len(model_label)), height=nonsense_prob, width=0.5, color=colors)\n",
    "axs[2].bar(x=range(len(model_label)), height=best_cv_score, width=0.5, color=colors)\n",
    "axs[3].bar(x=range(len(model_label)), height=best_accuracy_score, width=0.5, color=colors)\n",
    "\n",
    "for i in range(4):\n",
    "    axs[i].set_xticks(range(len(model_label)))\n",
    "    axs[i].set_xticklabels(labels=model_label, fontsize=13, rotation=0)\n",
    "\n",
    "axs[3].set_xlabel(\"Model\", fontsize=16)\n",
    "\n",
    "axs[0].set_ylabel(\"Example sentence score\", fontsize=16)\n",
    "axs[1].set_ylabel(\"Nonsense sentence score\", fontsize=16)\n",
    "axs[2].set_ylabel(\"Best CV score\", fontsize=16)\n",
    "axs[3].set_ylabel(\"Accuracy vs. test data\", fontsize=16)\n",
    "\n",
    "axs[0].set_ylim([0.45,1.05])\n",
    "\n",
    "plt.show()"
   ]
  },
  {
   "cell_type": "markdown",
   "metadata": {},
   "source": [
    "# 4. Final Model \\& Prediction"
   ]
  },
  {
   "cell_type": "code",
   "execution_count": 125,
   "metadata": {},
   "outputs": [
    {
     "name": "stdout",
     "output_type": "stream",
     "text": [
      "The sentence \"dont get this wrong\" belongs to the artist Pretenders with a 0.85% probability.\n"
     ]
    }
   ],
   "source": [
    "## based on the results above, the SVM finds the best balance between very good test set performance,\n",
    "## and not overfitting the nonsense predictions\n",
    "model = estimator[3]\n",
    "\n",
    "your_sentence = [\"dont get this wrong\"] # type in your sentence to search for\n",
    "prob = model.predict_proba(vectorizer.transform(your_sentence).toarray()).max().round(2)\n",
    "pred = model.predict(vectorizer.transform(your_sentence).toarray())\n",
    "\n",
    "print(f\"The sentence \\\"{your_sentence[0]}\\\" belongs to the artist {pred[0]} with a {prob}% probability.\")\n"
   ]
  }
 ],
 "metadata": {
  "kernelspec": {
   "display_name": "Python 3.9.12 ('base')",
   "language": "python",
   "name": "python3"
  },
  "language_info": {
   "codemirror_mode": {
    "name": "ipython",
    "version": 3
   },
   "file_extension": ".py",
   "mimetype": "text/x-python",
   "name": "python",
   "nbconvert_exporter": "python",
   "pygments_lexer": "ipython3",
   "version": "3.9.12"
  },
  "orig_nbformat": 4,
  "vscode": {
   "interpreter": {
    "hash": "6deebe2b6c7a3fc5cd075ffe89f3ba7e7310f85d9af63e76c7275543219241fc"
   }
  }
 },
 "nbformat": 4,
 "nbformat_minor": 2
}
